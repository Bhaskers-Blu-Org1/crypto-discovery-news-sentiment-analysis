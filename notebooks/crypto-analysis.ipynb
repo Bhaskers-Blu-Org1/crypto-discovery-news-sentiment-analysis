{
 "cells": [
  {
   "cell_type": "markdown",
   "metadata": {},
   "source": [
    "# Introduction\n",
    "\n",
    "First, we must ensure that the Watson Python SDK is installed and ready to use, we'll then import the SDK as well as the pandas library\n",
    "\n",
    "**Note: Using `%%capture` just supresses the output, you can remove the line if you want to see the output from pip**"
   ]
  },
  {
   "cell_type": "code",
   "execution_count": 5,
   "metadata": {},
   "outputs": [],
   "source": [
    "%%capture\n",
    "!pip install watson_developer_cloud"
   ]
  },
  {
   "cell_type": "code",
   "execution_count": 2,
   "metadata": {},
   "outputs": [],
   "source": [
    "from watson_developer_cloud import DiscoveryV1\n",
    "import pandas as pd"
   ]
  },
  {
   "cell_type": "markdown",
   "metadata": {},
   "source": [
    "# Initialize Watson Discovery\n",
    "\n",
    "Now we'll initialize Watson Discovery using our login credentials. In order to obtain these, create a Watson Discovery services with your IBM Cloud account, and generate new credentials."
   ]
  },
  {
   "cell_type": "code",
   "execution_count": 6,
   "metadata": {},
   "outputs": [],
   "source": [
    "# Enter your own credentials below - be sure to wrap each inside of single quotation marks\n",
    "credentials = {\n",
    "    'DISCOVERY_USERNAME': 'YOUR SERVICE USERNAME HERE',\n",
    "    'DISCOVERY_PASSWORD': 'YOUR SERVICE PASSWORD HERE'\n",
    "}"
   ]
  },
  {
   "cell_type": "code",
   "execution_count": 4,
   "metadata": {},
   "outputs": [],
   "source": [
    "discovery = DiscoveryV1(\n",
    "    version='2018-08-01',\n",
    "    username= credentials['DISCOVERY_USERNAME'],\n",
    "    password= credentials['DISCOVERY_PASSWORD'])"
   ]
  },
  {
   "cell_type": "markdown",
   "metadata": {},
   "source": [
    "# Creating the query\n",
    "\n",
    "There are a few elements to querying Watson Discovery news, I'll break down each of the elements.\n",
    "\n",
    "`environment_id`: `system` just denotes that we're using the system environment\n",
    "\n",
    "`collection_id`: We want to query the news collection\n",
    "\n",
    "`query`: Basically we will be using a filter in order to isolate the articles that we want, so a query is not neccesary in this case\n",
    "\n",
    "`offset`: The number of results (documents) to skip\n",
    "\n",
    "`count`: The number of results (documents) to return \n",
    "\n",
    "***note: Count and offset is the way pagination of results is implemented, the maximum of total results (offset + count) cannot exceed 1,000***\n",
    "\n",
    "`deduplicate`: This is a beta feature to have Watson remove duplicate articles\n",
    "\n",
    "`aggregation`: This is a analytic query of the results set - in this case, the entire collection of news articles, filtered by Company (in this case 'bitcoin' is the company in question)\n",
    "\n",
    "`filter`: The query for matching documents\n",
    "\n",
    "`return_fields`: What items to actually return to us for our use\n",
    "\n",
    "**For more information, check out the [query reference](https://console.bluemix.net/docs/services/discovery/query-reference.html#query-reference)**\n",
    "\n",
    "\n",
    "We are using DEFAULT_COUNT of 50, the maximum you can query at once, and incrementing until we've captured all available documents or hit 1,000 (the maximum)."
   ]
  },
  {
   "cell_type": "code",
   "execution_count": 12,
   "metadata": {},
   "outputs": [],
   "source": [
    "all_results = []\n",
    "\n",
    "DEFAULT_COUNT = 50\n",
    "offset = 0\n",
    "\n",
    "while offset + DEFAULT_COUNT <= 1000:\n",
    "    try:\n",
    "        result = discovery.query(environment_id='system',\n",
    "                                 collection_id='news-en',\n",
    "                                 query='',\n",
    "                                 offset=offset,\n",
    "                                 count=DEFAULT_COUNT,\n",
    "                                 deduplicate=True,\n",
    "                                 aggregation='filter(enriched_title.entities.type::Company).term(enriched_title.entities.text).timeslice(crawl_date,1day).term(enriched_text.sentiment.document.score)',\n",
    "                                 filter='Bitcoin',\n",
    "                                 return_fields=['publication_date', 'enriched_text.sentiment.document'])\n",
    "        \n",
    "        # If the results are empty, stop querying\n",
    "        if not result['results']:\n",
    "            break\n",
    "        \n",
    "        # Add results to all_results and increment offset\n",
    "        all_results.extend(result['results'])\n",
    "        \n",
    "        offset += offset + DEFAULT_COUNT\n",
    "    except:\n",
    "        break"
   ]
  },
  {
   "cell_type": "markdown",
   "metadata": {},
   "source": [
    "# Using the data\n",
    "\n",
    "Now that we've queried Watson Discovery, we need to make the data usable. What is returned is an object with a few different fields, the one we're concerned with though is `results` (the items we asked for in `return_fields` of the query will be here). After each query in the previous `while` loop, we added the `result['results']` to an array of all results. Now we'll work with them.\n",
    "\n",
    "First we'll create a pandas dataframe, think of it as putting the data into a spreadsheet. Then we'll iterate over the array of results, and add them to our new dataframe."
   ]
  },
  {
   "cell_type": "code",
   "execution_count": 13,
   "metadata": {},
   "outputs": [],
   "source": [
    "df = pd.DataFrame()"
   ]
  },
  {
   "cell_type": "code",
   "execution_count": 14,
   "metadata": {},
   "outputs": [],
   "source": [
    "_date = []\n",
    "_sentiment_label = []\n",
    "_sentiment_score = []\n",
    "\n",
    "for r in all_results:\n",
    "    _date.append(r['publication_date'])\n",
    "    _sentiment_label.append(r['enriched_text']['sentiment']['document']['label'])\n",
    "    _sentiment_score.append(r['enriched_text']['sentiment']['document']['score'])"
   ]
  },
  {
   "cell_type": "code",
   "execution_count": 15,
   "metadata": {},
   "outputs": [],
   "source": [
    "df['publication_date'] = _date\n",
    "df['sentiment_label'] = _sentiment_label\n",
    "df['sentiment_score'] = _sentiment_score\n",
    "df.index = df['publication_date']"
   ]
  },
  {
   "cell_type": "code",
   "execution_count": 16,
   "metadata": {},
   "outputs": [],
   "source": [
    "df['publication_date'] = pd.to_datetime(df['publication_date'])\n",
    "df.index = df['publication_date']"
   ]
  },
  {
   "cell_type": "markdown",
   "metadata": {},
   "source": [
    "# Looking at the data\n",
    "\n",
    "When we call the  `df.head()` function, we can visually see the first portion of our data - remember the concept of a spreadsheet? Here we can see how the sentiment label coorelates to the score. Sentinent scores range from negative to positive, -1 to 1, with 0 being neutral. Watson has just taken the leg work away from assigning a label, but you could easily do this yourself as well."
   ]
  },
  {
   "cell_type": "code",
   "execution_count": 17,
   "metadata": {},
   "outputs": [
    {
     "data": {
      "text/html": [
       "<div>\n",
       "<style scoped>\n",
       "    .dataframe tbody tr th:only-of-type {\n",
       "        vertical-align: middle;\n",
       "    }\n",
       "\n",
       "    .dataframe tbody tr th {\n",
       "        vertical-align: top;\n",
       "    }\n",
       "\n",
       "    .dataframe thead th {\n",
       "        text-align: right;\n",
       "    }\n",
       "</style>\n",
       "<table border=\"1\" class=\"dataframe\">\n",
       "  <thead>\n",
       "    <tr style=\"text-align: right;\">\n",
       "      <th></th>\n",
       "      <th>publication_date</th>\n",
       "      <th>sentiment_label</th>\n",
       "      <th>sentiment_score</th>\n",
       "    </tr>\n",
       "    <tr>\n",
       "      <th>publication_date</th>\n",
       "      <th></th>\n",
       "      <th></th>\n",
       "      <th></th>\n",
       "    </tr>\n",
       "  </thead>\n",
       "  <tbody>\n",
       "    <tr>\n",
       "      <th>2018-06-17 03:16:00</th>\n",
       "      <td>2018-06-17 03:16:00</td>\n",
       "      <td>negative</td>\n",
       "      <td>-0.325426</td>\n",
       "    </tr>\n",
       "    <tr>\n",
       "      <th>2018-06-17 05:08:00</th>\n",
       "      <td>2018-06-17 05:08:00</td>\n",
       "      <td>negative</td>\n",
       "      <td>-0.536807</td>\n",
       "    </tr>\n",
       "    <tr>\n",
       "      <th>2018-06-17 00:40:00</th>\n",
       "      <td>2018-06-17 00:40:00</td>\n",
       "      <td>positive</td>\n",
       "      <td>0.040940</td>\n",
       "    </tr>\n",
       "    <tr>\n",
       "      <th>2018-06-17 03:48:00</th>\n",
       "      <td>2018-06-17 03:48:00</td>\n",
       "      <td>negative</td>\n",
       "      <td>-0.513404</td>\n",
       "    </tr>\n",
       "    <tr>\n",
       "      <th>2018-06-17 04:06:00</th>\n",
       "      <td>2018-06-17 04:06:00</td>\n",
       "      <td>negative</td>\n",
       "      <td>-0.277480</td>\n",
       "    </tr>\n",
       "  </tbody>\n",
       "</table>\n",
       "</div>"
      ],
      "text/plain": [
       "                       publication_date sentiment_label  sentiment_score\n",
       "publication_date                                                        \n",
       "2018-06-17 03:16:00 2018-06-17 03:16:00        negative        -0.325426\n",
       "2018-06-17 05:08:00 2018-06-17 05:08:00        negative        -0.536807\n",
       "2018-06-17 00:40:00 2018-06-17 00:40:00        positive         0.040940\n",
       "2018-06-17 03:48:00 2018-06-17 03:48:00        negative        -0.513404\n",
       "2018-06-17 04:06:00 2018-06-17 04:06:00        negative        -0.277480"
      ]
     },
     "execution_count": 17,
     "metadata": {},
     "output_type": "execute_result"
    }
   ],
   "source": [
    "df.head()"
   ]
  },
  {
   "cell_type": "markdown",
   "metadata": {},
   "source": [
    "# Visualizing the data\n",
    "\n",
    "Now that we've set up our dataframe, we can use `matplotlib` to visualize a portion of the data. In this example, we're using the sentiment label (negative, positive, neutral), and visualize the data in a pie chart.\n",
    "\n",
    "First we import `matplotlib.pyplot`, and just for aesthetics, set the style to use `fivethirtyeight` (as an aside, if you call `matplotlib.style.available`, you can see a full list of styles available. You could also not set the style and use the default as well).\n",
    "\n",
    "Finally, the column we want to analyze we previously named `sentimnent`, we access the column with `df['sentiment']`, we then call the helper function `value_counts()` to get a count of each sentiment lable, and then finally use the `plot()` method to plot the data in a pie chart."
   ]
  },
  {
   "cell_type": "code",
   "execution_count": 18,
   "metadata": {},
   "outputs": [
    {
     "data": {
      "image/png": "[encoded data removed]",
      "text/plain": [
       "<matplotlib.figure.Figure at 0x7fd131cf7e80>"
      ]
     },
     "metadata": {},
     "output_type": "display_data"
    }
   ],
   "source": [
    "import matplotlib.pyplot as plt\n",
    "plt.style.use('fivethirtyeight')\n",
    "\n",
    "df['sentiment_label'].value_counts().plot(kind='pie', \n",
    "                                    subplots=False, \n",
    "                                    explode=(0.05, 0.05, 0.05), \n",
    "                                    startangle=100,\n",
    "                                    pctdistance=0.85,\n",
    "                                    autopct='%1.1f%%',\n",
    "                                    title='Sentiment of articles reporting on Bitcoin')\n",
    "\n",
    "# center_circle = plt.Circle((0,0),0.70,fc='white')\n",
    "# fig = plt.gcf()\n",
    "# fig.gca().add_artist(center_circle)\n",
    "\n",
    "plt.tight_layout()\n",
    "plt.show()"
   ]
  },
  {
   "cell_type": "code",
   "execution_count": null,
   "metadata": {},
   "outputs": [],
   "source": []
  },
  {
   "cell_type": "code",
   "execution_count": null,
   "metadata": {},
   "outputs": [],
   "source": []
  }
 ],
 "metadata": {
  "kernelspec": {
   "display_name": "Python 3.5",
   "language": "python",
   "name": "python3"
  },
  "language_info": {
   "codemirror_mode": {
    "name": "ipython",
    "version": 3
   },
   "file_extension": ".py",
   "mimetype": "text/x-python",
   "name": "python",
   "nbconvert_exporter": "python",
   "pygments_lexer": "ipython3",
   "version": "3.5.5"
  }
 },
 "nbformat": 4,
 "nbformat_minor": 1
}
